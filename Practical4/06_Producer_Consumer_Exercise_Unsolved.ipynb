{
  "nbformat": 4,
  "nbformat_minor": 0,
  "metadata": {
    "colab": {
      "provenance": [],
      "include_colab_link": true
    },
    "kernelspec": {
      "name": "python3",
      "display_name": "Python 3"
    },
    "language_info": {
      "name": "python"
    }
  },
  "cells": [
    {
      "cell_type": "markdown",
      "metadata": {
        "id": "view-in-github",
        "colab_type": "text"
      },
      "source": [
        "<a href=\"https://colab.research.google.com/github/Fulim13/Parallel-Computing-Learning/blob/main/Practical4/06_Producer_Consumer_Exercise_Unsolved.ipynb\" target=\"_parent\"><img src=\"https://colab.research.google.com/assets/colab-badge.svg\" alt=\"Open In Colab\"/></a>"
      ]
    },
    {
      "cell_type": "markdown",
      "source": [
        "# **Producer Consumer Problem and Solution**\n",
        "## **Goal**:\n",
        "This will be an exercise to implement a solution to a producer consumer problem.\n",
        "\n",
        "## **What is the Producer Consumer Problem?**\n",
        "The producer-consumer problem is a synchronization challenge in concurrent programming. It involves two processes (threads):\n",
        "\n",
        "1.   the **producer**, responsible for generating data and adding it to a shared buffer,\n",
        "2.   the **consumer**, which removes data from the buffer.\n",
        "\n",
        "To achieve this, synchronization between the producer and the consumer is necessary. Since the buffer has a finite capacity, the producer cannot keep adding messages to the queue if there are no empty slots available. Similarly, the consumer cannot retrieve messages if the buffer is empty. The algorithm ensures synchronization by blocking the producer when the buffer is full, unblocking it only when the consumer retrieves messages. Conversely, the consumer is blocked when the buffer is empty and unblocked only when the producer adds new messages to the buffer.\n",
        "\n",
        "## **How to Block and Unblock Processes (Threads)?**\n",
        "The core of the algorithm lies in its blocking and unblocking mechanisms:\n",
        "1. **Producer**: Blocks when the buffer is full, unblocks when the buffer is not full.\n",
        "2. **Consumer**: Blocks when the buffer is empty, unblocks when the buffer is not empty.\n",
        "\n",
        "But how do we achieve this? For example, for the consumer, how do we block when the buffer is empty and unblock when it is not empty? One common way to do this is to use the **counting semaphore**.\n",
        "\n",
        "## **What is Counting Semaphore?**\n",
        "A **counting semaphore** is a synchronization mechanism used in operating systems to regulate access to finite shared resources. The semaphore maintains a count that represents the number of available resources. When a process or thread needs one of these resources, it attempts to decrement the count. If the count is greater than zero before the decrement, it means the resource is available, and the process can proceed without being blocked. However, if the count reaches zero, the process must wait until a resource becomes available. Counting semaphores can accommodate multiple processes (threads) accessing the shared resource simultaneously. If the initial count is 1, it allows exactly one thread to access the resource at a time. This special case of a counting semaphore is known as a **binary semaphore**. Due to this property, it is commonly used to control access to critical sections.\n",
        "\n",
        "## **Semaphore Implementation**\n",
        "In C++, the standard library provides the `std::counting_semaphore` class, which can be readily used for managing synchronization among threads. However, for this specific exercise, we'll create our own counting semaphore using a conditional variable in conjunction with a mutex. This custom approach allows us to precisely track when a thread becomes blocked or unblocked during the up (release) or down (acquire) operation—a feature not directly available in the standard counting semaphore. The primary purpose of implementing our own semaphore is to facilitate debugging. By monitoring whether a thread is blocked or unblocked, we gain insights into potential issues within our concurrent code."
      ],
      "metadata": {
        "id": "3VDysggdSHDo"
      }
    },
    {
      "cell_type": "code",
      "execution_count": null,
      "metadata": {
        "colab": {
          "base_uri": "https://localhost:8080/"
        },
        "id": "JsmwKSNMRu-p",
        "outputId": "1dab401c-2f7b-4a09-908e-7bb51b4b1cd3"
      },
      "outputs": [
        {
          "output_type": "stream",
          "name": "stdout",
          "text": [
            "Writing semaphore.hpp\n"
          ]
        }
      ],
      "source": [
        "# Do not confuse with the standard semaphore library provided by C++ although\n",
        "# the name used for this file is the same. This is our custom semaphore\n",
        "# implementation.\n",
        "%%writefile semaphore.hpp\n",
        "#pragma once\n",
        "#include <iostream>\n",
        "#include <thread>\n",
        "#include <mutex>\n",
        "#include <condition_variable>\n",
        "\n",
        "#define sem_down(obj)   (obj.acquire(#obj))\n",
        "#define sem_up(obj)     (obj.release(#obj))\n",
        "\n",
        "class Semaphore {\n",
        "private:\n",
        "    int count;\n",
        "    bool blocked = false;\n",
        "    std::condition_variable cv;\n",
        "    std::mutex mtx;\n",
        "\n",
        "public:\n",
        "    Semaphore(int count_) : count(count_) {}\n",
        "\n",
        "    void acquire(const char *name) {\n",
        "        std::unique_lock<std::mutex> lock(mtx);\n",
        "        //std::cout << name << \" is \" << count << \"\\n\";\n",
        "        if(count <= 0) {\n",
        "            std::cout << \"Block on \" << name << \"\\n\";\n",
        "            blocked = true;\n",
        "        }\n",
        "        do {\n",
        "             cv.wait(lock, [this] { return count > 0; });\n",
        "        } while (count <= 0);\n",
        "        if(blocked) {\n",
        "            std::cout << \"Unblock from \" << name << \"\\n\";\n",
        "            blocked = false;\n",
        "        }\n",
        "        --count;\n",
        "    }\n",
        "\n",
        "    void release(const char *name) {\n",
        "        std::unique_lock<std::mutex> lock(mtx);\n",
        "        ++count;\n",
        "        cv.notify_one();\n",
        "    }\n",
        "};"
      ]
    },
    {
      "cell_type": "markdown",
      "source": [
        "## **Barrier Example Solved Using the Custom Counting Semaphore**\n",
        "This is a barrier example is merely to serve as a test program to check the correctness of the custom semaphore implementation. It creates 10 threads, each of which will block by calling `sem_down(barrier)`. The last thread bypasses the `sem_down(barrier)` and calls `sem_up(barrier)`, which unblocks one waiting thread. That thread proceeds to call `sem_up(barrier)`, which releases the next thread. This chain reaction eventually releases all the waiting threads.\n",
        "\n",
        "Take note of how the custom counting semaphore is used:\n",
        "1.  `Semaphore barrier(0)` creates a counting semaphore with an initial count of 0.\n",
        "2.  `sem_down(barrier)` calls the `acquire()` method of the barrier semaphore object.\n",
        "3.  `sem_up(barrier)` calls the `release()` method of the barrier semaphore object."
      ],
      "metadata": {
        "id": "ud_JJPxrSPln"
      }
    },
    {
      "cell_type": "code",
      "source": [
        "%%writefile barrier_example.cpp\n",
        "#include <iostream>\n",
        "#include <pthread.h>\n",
        "#include \"semaphore.hpp\"        // This is our custom semaphore implementation\n",
        "\n",
        "const int THREAD_SIZE = 10;     // The number of threads\n",
        "\n",
        "Semaphore mutex(1);             // Create a binary semaphore to serve as a mutex\n",
        "Semaphore barrier(0);           // Semaphore with initial count of 0\n",
        "int count = 0;\n",
        "\n",
        "void* demo_barrier_synchronization(void *s) {\n",
        "    std::cout << \"Message: \" << *static_cast<std::string*>(s) << std::endl;\n",
        "\n",
        "    sem_down(mutex);\n",
        "    count++;                    // Count the number of threads\n",
        "    sem_up(mutex);\n",
        "\n",
        "    if (count != THREAD_SIZE)   // , then this must NOT be the last thread\n",
        "        sem_down(barrier);      // so it has to wait\n",
        "    // The last thread will unblock ONE thread\n",
        "    sem_up(barrier);            // Once unblocked, it unblocks the next thread\n",
        "\n",
        "    std::cout << *static_cast<std::string*>(s) << \" unblocked\\n\";\n",
        "    delete static_cast<std::string*>(s);\n",
        "    return NULL;\n",
        "}\n",
        "\n",
        "int main() {\n",
        "    pthread_t t[THREAD_SIZE];\n",
        "    // Create threads with each executing demo_barrier_sync\n",
        "    for(int i = 0; i < THREAD_SIZE; i++) {\n",
        "        std::string *str = new std::string{\"thread_\" + std::to_string(i)};\n",
        "        pthread_create(&t[i], nullptr, demo_barrier_synchronization,          \\\n",
        "                        static_cast<void*>(str));\n",
        "    }\n",
        "    // Join all the threads\n",
        "    for(int i = 0; i < THREAD_SIZE; i++) {\n",
        "        pthread_join(t[i], nullptr);\n",
        "    }\n",
        "    return 0;\n",
        "}"
      ],
      "metadata": {
        "colab": {
          "base_uri": "https://localhost:8080/"
        },
        "id": "Pl9zNS5MSVvH",
        "outputId": "2147bfe5-5877-4a0a-a1c9-76eeb5c28f34"
      },
      "execution_count": null,
      "outputs": [
        {
          "output_type": "stream",
          "name": "stdout",
          "text": [
            "Writing barrier_example.cpp\n"
          ]
        }
      ]
    },
    {
      "cell_type": "code",
      "source": [
        "!g++ -o barrier_example barrier_example.cpp\n",
        "!./barrier_example"
      ],
      "metadata": {
        "colab": {
          "base_uri": "https://localhost:8080/"
        },
        "id": "aGpxA_pBSVtv",
        "outputId": "b7f6f16d-f4df-4d0f-a273-98e074faccec"
      },
      "execution_count": null,
      "outputs": [
        {
          "output_type": "stream",
          "name": "stdout",
          "text": [
            "Message: thread_2\n",
            "Block on barrier\n",
            "Message: thread_8\n",
            "Block on barrier\n",
            "Message: thread_9\n",
            "Block on barrier\n",
            "Message: thread_1\n",
            "Block on barrier\n",
            "Message: thread_5\n",
            "Block on barrier\n",
            "Message: Message: thread_4\n",
            "Block on barrier\n",
            "Message: Message: thread_3\n",
            "Block on barrier\n",
            "thread_6\n",
            "Block on barrier\n",
            "thread_7\n",
            "Block on barrier\n",
            "Message: thread_0\n",
            "Unblock from barrier\n",
            "thread_2 unblocked\n",
            "thread_0 unblocked\n",
            "thread_8 unblocked\n",
            "thread_1 unblocked\n",
            "thread_4 unblocked\n",
            "thread_3 unblocked\n",
            "thread_6 unblocked\n",
            "thread_5 unblocked\n",
            "thread_7 unblocked\n",
            "thread_9 unblocked\n"
          ]
        }
      ]
    },
    {
      "cell_type": "markdown",
      "source": [
        "We have digressed a bit, but let's get back to the producer and consumer.\n",
        "\n",
        "## **How Many Counting Semaphore Needed to Solve the Producer Consumer Problem?**\n",
        "Obviously, we need 2 counting semaphores, namely, one to control the access to the buffer by the producer and the other for the consumer.\n",
        "\n",
        "\n",
        "## **The Consumer is Straightforwardly Handled by the Counting Semaphore, But How to Deal with the Producer?**\n",
        "The counting semaphore works well for the consumer because we want the consumer to be blocked when the count (representing available resources) reaches zero. When the count is zero, the consumer waits until a resource becomes available. For the producer, we need it to be blocked when the buffer is full (all slots are occupied). Using the semaphore count directly to track the number of resources won't work because the semaphore is blocked only when the count reaches zero. To address this, we rephrase the context: Instead of counting available resources, we use the semaphore count to track the empty slots in the buffer. When the buffer is full (empty slots reach zero), the producer is blocked until a slot becomes available.\n",
        "\n",
        "Here is how the counting semaphores are defined for the producer consumer algorithm:\n",
        "```cpp\n",
        "// Semaphore to count available resources. Initially, the buffer is empty.\n",
        "Semaphore resource_count(0);\n",
        "// Semaphore to count empty slots. Initially, the empty slots is the size of the buffer.\n",
        "Semaphore empty_slot_count(BUFFER_SIZE);\n",
        "```\n",
        "Note that the `resource_count` and `empty_slot_count` are complementary. When the `resource_count` decreases by 1 (due to a consumer consuming 1 resource), the `empty_slot_count` increases by 1 (indicating to the producer an additional empty slot is available for it to use). Similarly, when the `empty_slot_count` decreases by 1 (because the producer uses up 1 empty slot), the resource_count increases by 1 (signaling to the consumer that additional resources are available for consumption)."
      ],
      "metadata": {
        "id": "-CqR-182SYE3"
      }
    },
    {
      "cell_type": "markdown",
      "source": [
        "## **The Finite Circular Buffer**\n",
        "To be able to store and retrieve data in an efficient manner, we use a finite circular buffer with a specific size. The implementation of this buffer is given in the following code.\n",
        "\n",
        "The implementation can self-test to determine if:\n",
        "\n",
        "1.   It encounters a race condition (meaning many threads access it at the same time)\n",
        "2.   A caller attempts to add an item exceeding its full capacity (meaning the caller fails to block on full)\n",
        "3.   A caller attempts to remove an item when the buffer is empty (meaning the caller fails to block on empty)\n",
        "\n",
        "The implementation prints error messages to inform the user of these 3 issues. This can be helpful for debugging. However, the implementation cannot detect deadlock scenarios. If a deadlock were to occur, the program would appear to hang without any explicit error messages.\n",
        "\n",
        "Note that the self-test code is only there to guide you in solving the problem. In the actual circular buffer implementation, such redundant code is not included."
      ],
      "metadata": {
        "id": "u7JlMs_kSzz4"
      }
    },
    {
      "cell_type": "code",
      "source": [
        "%%writefile circular_buffer.hpp\n",
        "#pragma once\n",
        "#include <mutex>\n",
        "#include <string>\n",
        "#include <chrono>\n",
        "\n",
        "class CircularBuffer {\n",
        "public:\n",
        "    // Constructor\n",
        "    CircularBuffer(size_t size) : size(size), head_idx(0), tail_idx(0) {\n",
        "        buffer = new int[size];\n",
        "    }\n",
        "\n",
        "    // Destructor\n",
        "    ~CircularBuffer() {\n",
        "       delete []buffer;\n",
        "    }\n",
        "\n",
        "    void add_integer(int value) {\n",
        "        verify_mutual_exclusive_enter(\"add_integer\");\n",
        "        verify_count_before_adding(\"add_integer\");\n",
        "        buffer[tail_idx] = value;\n",
        "        std::this_thread::sleep_for(std::chrono::milliseconds(10));\n",
        "        tail_idx = (tail_idx + 1) % size;\n",
        "        verify_mutual_exclusive_exit(\"add_integer\");\n",
        "    }\n",
        "\n",
        "    int get_integer() {\n",
        "        verify_mutual_exclusive_enter(\"get_integer\");\n",
        "        verify_count_before_removing(\"get_integer\");\n",
        "        int value = buffer[head_idx];\n",
        "        std::this_thread::sleep_for(std::chrono::milliseconds(10));\n",
        "        head_idx = (head_idx + 1) % size;\n",
        "        verify_mutual_exclusive_exit(\"get_integer\");\n",
        "        return value;\n",
        "    }\n",
        "\n",
        "private:\n",
        "    void verify_mutual_exclusive_enter(std::string str) {\n",
        "        std::unique_lock<std::mutex> lock(mutex_);\n",
        "        if(enter_count > 0) {\n",
        "            std::cout << \"BUG: [\" << str << \"] Non-mutual exclusive access \"\n",
        "                      << \"to the CircularBuffer object. Has already entered \"\n",
        "                      << enter_count << \" time! May potentially encounter \"\n",
        "                      << \"race condition!\\n\";\n",
        "            std::terminate();\n",
        "        }\n",
        "        enter_count++;\n",
        "        //std::cout << \"DEBUG: [\" << str << \":enter] enter_count = \"          \\\n",
        "                << enter_count << \" time(s).\\n\";\n",
        "    }\n",
        "\n",
        "    void verify_mutual_exclusive_exit(std::string str) {\n",
        "        std::unique_lock<std::mutex> lock(mutex_);\n",
        "        if(enter_count < 1) {\n",
        "            std::cout << \"BUG: [\" << str << \"] Illegal exclusive access to the \"\n",
        "                      << \"CircularBuffer object. Has already exited \"\n",
        "                      << -enter_count << \" time!\\n\";\n",
        "            std::terminate();\n",
        "        }\n",
        "        enter_count--;\n",
        "        // std::cout << \"DEBUG: [\" << str << \":exit] enter_count = \"\\\n",
        "                << enter_count << \" time(s).\\n\";\n",
        "    }\n",
        "\n",
        "    void verify_count_before_adding(std::string str) {\n",
        "        std::unique_lock<std::mutex> lock(mutex_);\n",
        "        if(++count > size) {\n",
        "            std::cout << \"BUG: [\" << str << \"] Attempting to add data \"\n",
        "                      << \"exceeding the buffer size! Most probably it is not \"\n",
        "                      << \"protected by a counting semaphore!\\n\";\n",
        "            std::terminate();\n",
        "        }\n",
        "        //std::cout << \"DEBUG: [\" << str << \":enter] count = \"          \\\n",
        "                << count << \" item(s).\\n\";\n",
        "    }\n",
        "\n",
        "    void verify_count_before_removing(std::string str) {\n",
        "        std::unique_lock<std::mutex> lock(mutex_);\n",
        "        if(--count < 0) {\n",
        "            std::cout << \"BUG: [\" << str << \"] Attempting to remove data from \"\n",
        "                      << \"an empty buffer! Most probably it is not \"\n",
        "                      << \"protected by a counting semaphore!\\n\";\n",
        "            std::terminate();\n",
        "        }\n",
        "    }\n",
        "\n",
        "    std::mutex mutex_;\n",
        "    int count = 0;\n",
        "    int enter_count = 0;\n",
        "    int *buffer;\n",
        "    size_t size;\n",
        "    size_t head_idx;\n",
        "    size_t tail_idx;\n",
        "};\n"
      ],
      "metadata": {
        "colab": {
          "base_uri": "https://localhost:8080/"
        },
        "id": "KZcMACrSSyfI",
        "outputId": "6f8af96f-925e-491e-de00-6006b030867a"
      },
      "execution_count": null,
      "outputs": [
        {
          "output_type": "stream",
          "name": "stdout",
          "text": [
            "Writing circular_buffer.hpp\n"
          ]
        }
      ]
    },
    {
      "cell_type": "markdown",
      "source": [
        "## **Main Program**\n",
        "This is the main program of the producer-consumer problem exercise. The `main()` function creates two threads - one to run the `sender()` function and another to run the `receiver()` function.\n",
        "\n",
        "The `sender()` produces a monotonically increasing number and sends it to a finite circular buffer of size 12. It generates these numbers in random bursts. Conversely, the `receiver()` consumes the numbers from the buffer and prints them to the console, also in random bursts.\n",
        "\n",
        "The random bursts allow the buffer to fill and clear quickly at different times. This variation in fill and consumption rates is intentional - it will allow us to thoroughly test the producer-consumer code and ensure it functions correctly under diverse operating conditions.\n",
        "\n",
        "Specifically, if the producer fills the buffer quickly to its maximum capacity of 12, it will block on the `empty_slots_count` semaphore, since it cannot add any more items when there are no empty slots available. Conversely, if the consumer consumes the items quickly until the buffer is empty, it will block on the `resource_count` semaphore, as it cannot retrieve any more items when the buffer is depleted.\n",
        "\n",
        "By subjecting the system to these random fill and consumption patterns, we can validate that the producer and consumer threads are properly synchronizing access to the shared buffer using the semaphores, preventing race conditions and deadlocks."
      ],
      "metadata": {
        "id": "4SR2pWskS8v_"
      }
    },
    {
      "cell_type": "code",
      "source": [
        "%%writefile sender_receiver.cpp\n",
        "#include <iostream>\n",
        "#include <ctime>\n",
        "#include <thread>\n",
        "#include \"send_recv.hpp\"\n",
        "#include \"rand.hpp\"\n",
        "\n",
        "namespace this_thread = std::this_thread;\n",
        "namespace chrono = std::chrono;\n",
        "using milliseconds = chrono::milliseconds;\n",
        "using uint32 = unsigned int;\n",
        "\n",
        "const int N = 500;\n",
        "const uint32 MIN = 0;\n",
        "const uint32 MAX = 100000;\n",
        "\n",
        "RandomGen rd, delay(BUFFER_SIZE / 2);\n",
        "\n",
        "void sender(CircularBuffer &buffer) {\n",
        "    int value = 0;\n",
        "    for(int i = 0; i < N; i++) {\n",
        "        // Generate a none zero random value\n",
        "        do {\n",
        "            //value = rd.gen(MIN, MAX);\n",
        "            value++;\n",
        "        } while(value == 0);\n",
        "        // Send the number\n",
        "        send(value, buffer);\n",
        "        // Sleep for some random period from 0 to 0.5 second\n",
        "        this_thread::sleep_for(milliseconds(delay.gen(0, 500)));\n",
        "    }\n",
        "    // Send a 0 to terminate\n",
        "    send(0, buffer);\n",
        "}\n",
        "\n",
        "void receiver(CircularBuffer &buffer) {\n",
        "    int value;\n",
        "    // Print the number received as long as it is not zero. Otherwise,\n",
        "    // stop this thread\n",
        "    while((value = recv(buffer)) != 0) {\n",
        "        std::cout << \"Number received: \" << value << std::endl << std::flush;\n",
        "        this_thread::sleep_for(milliseconds(delay.gen(0, 500)));\n",
        "    }\n",
        "}\n",
        "\n",
        "int main() {\n",
        "    CircularBuffer buffer(BUFFER_SIZE);\n",
        "\n",
        "    std::thread prodThread(sender, std::ref(buffer));\n",
        "    std::thread consThread(receiver, std::ref(buffer));\n",
        "\n",
        "    prodThread.join();\n",
        "    consThread.join();\n",
        "\n",
        "    std::cout << \"Program ended.\" << std::endl << std::flush;\n",
        "\n",
        "    return 0;\n",
        "}"
      ],
      "metadata": {
        "colab": {
          "base_uri": "https://localhost:8080/"
        },
        "id": "5U3AgOKlSh-n",
        "outputId": "cee72c79-41bf-484a-843b-7c9a03573b3e"
      },
      "execution_count": null,
      "outputs": [
        {
          "output_type": "stream",
          "name": "stdout",
          "text": [
            "Writing sender_receiver.cpp\n"
          ]
        }
      ]
    },
    {
      "cell_type": "code",
      "source": [
        "%%writefile rand.hpp\n",
        "#pragma once\n",
        "#include <random>\n",
        "#include <mutex>\n",
        "\n",
        "using uint32 = unsigned int;\n",
        "\n",
        "class RandomGen {\n",
        "public:\n",
        "    //RandomGen() = default;\n",
        "    RandomGen(uint32 burst_size = 0) {\n",
        "        if(burst_size < 0)\n",
        "            this->burst_size = 0;\n",
        "        else this->burst_size = burst_size;;\n",
        "        rd_gen = std::uniform_int_distribution<uint32>{0, this->burst_size};\n",
        "    }\n",
        "\n",
        "    RandomGen(std::mt19937::result_type seed, uint32 burst_size = 0) :       \\\n",
        "                                                        RandomGen(burst_size) {\n",
        "        eng.seed(seed);\n",
        "    }\n",
        "\n",
        "    uint32 gen(uint32 min, uint32 max) {\n",
        "        std::unique_lock<std::mutex> lock(mutex_);\n",
        "        if(i < 1) {\n",
        "            i = rd_gen(eng);\n",
        "            return std::uniform_int_distribution<uint32>{min, max}(eng);\n",
        "        } else {\n",
        "            i--;\n",
        "            return std::uniform_int_distribution<uint32>{0, 50}(eng);;\n",
        "        }\n",
        "    }\n",
        "/*\n",
        "    float gen(float min, float max) {\n",
        "        return std::uniform_real_distribution<float>{min, max}(eng);\n",
        "    }\n",
        "*/\n",
        "private:\n",
        "    std::mutex mutex_;\n",
        "    std::mt19937 eng{std::random_device{}()};\n",
        "    std::uniform_int_distribution<uint32> rd_gen;\n",
        "    uint32 burst_size;\n",
        "    int i = 0;\n",
        "};"
      ],
      "metadata": {
        "colab": {
          "base_uri": "https://localhost:8080/"
        },
        "id": "ObPugZFIZLFA",
        "outputId": "026374e9-e3d0-4759-927a-d88c418e24c0"
      },
      "execution_count": null,
      "outputs": [
        {
          "output_type": "stream",
          "name": "stdout",
          "text": [
            "Writing rand.hpp\n"
          ]
        }
      ]
    },
    {
      "cell_type": "markdown",
      "source": [
        "## **The Producer Consumer Code**\n",
        "This is the code that implements the solution for the producer-consumer problem. Fill in the code as suggested in the comments to make the program work. Note that although there are two semaphores used to synchronize access to the buffer by the producer and consumer, it does not guarantee mutually exclusive access when manipulating the shared buffer. Therefore, we need a mutex to prevent race conditions."
      ],
      "metadata": {
        "id": "mQakpp_iTDuf"
      }
    },
    {
      "cell_type": "code",
      "source": [
        "%%writefile send_recv.cpp\n",
        "#include <iostream>\n",
        "#include <mutex>\n",
        "#include <semaphore.h>\n",
        "#include \"semaphore.hpp\"\n",
        "#include \"send_recv.hpp\"\n",
        "\n",
        "// Count the number of resource in the buffer\n",
        "Semaphore resource_count(0);\n",
        "// Count the number of empty slots in the buffer\n",
        "Semaphore empty_slots_count(BUFFER_SIZE);\n",
        "// Mutex to protect the shared circular buffer from race condition\n",
        "std::mutex buf_mut;\n",
        "\n",
        "// Implement the producer\n",
        "void send(int data, CircularBuffer &buffer) {\n",
        "    // Perform a down on empty_slots_count, it should block when there is no\n",
        "    // more empty slots to fill item. Otherwise it will just proceeds.\n",
        "    // ...\n",
        "\n",
        "    // Before accessing the shared finite circular buffer, acquire mutex first\n",
        "    // ...\n",
        "\n",
        "    // Add the data into the buffer\n",
        "    buffer.add_integer(data);\n",
        "\n",
        "    // Release the mutex when done with the critical section\n",
        "    // ...\n",
        "\n",
        "    // Perform an up on the resource count because we have just added an item\n",
        "    // ...\n",
        "}\n",
        "\n",
        "// Implement the consumer\n",
        "int recv(CircularBuffer &buffer) {\n",
        "    // Perform a down on resource_count, it should block when there is no\n",
        "    // more resource to consume. Otherwise it will just proceeds.\n",
        "    // ...\n",
        "\n",
        "    // Before accessing the shared finite circular buffer, acquire mutex first\n",
        "    // ...\n",
        "\n",
        "    // Get the data from the buffer\n",
        "    int value = buffer.get_integer();\n",
        "\n",
        "    // Release the mutex when done with the critical section\n",
        "    // ...\n",
        "\n",
        "    // Perform an up on the resource count because we have just added an item\n",
        "    // ...\n",
        "\n",
        "    // Return the retrieved data\n",
        "    return value;\n",
        "}"
      ],
      "metadata": {
        "colab": {
          "base_uri": "https://localhost:8080/"
        },
        "id": "LDoAQunkSmwH",
        "outputId": "956f4a39-ac52-4d2e-f4b5-235733b4e899"
      },
      "execution_count": null,
      "outputs": [
        {
          "output_type": "stream",
          "name": "stdout",
          "text": [
            "Writing send_recv.cpp\n"
          ]
        }
      ]
    },
    {
      "cell_type": "markdown",
      "source": [
        "This is the header file for the `send_recv.cpp`. It is already completed, and no coding required here."
      ],
      "metadata": {
        "id": "rjEQRmM-Skff"
      }
    },
    {
      "cell_type": "code",
      "source": [
        "%%writefile send_recv.hpp\n",
        "#pragma once\n",
        "#include \"circular_buffer.hpp\"\n",
        "\n",
        "using uint32 = unsigned int;\n",
        "const uint32 BUFFER_SIZE = 12;\n",
        "\n",
        "void send(int data, CircularBuffer &buffer);\n",
        "int recv(CircularBuffer &buffer);"
      ],
      "metadata": {
        "colab": {
          "base_uri": "https://localhost:8080/"
        },
        "id": "1_2FVx70TNZH",
        "outputId": "ea81357c-2405-4ea6-c30d-3dd30c545c11"
      },
      "execution_count": null,
      "outputs": [
        {
          "output_type": "stream",
          "name": "stdout",
          "text": [
            "Writing send_recv.hpp\n"
          ]
        }
      ]
    },
    {
      "cell_type": "markdown",
      "source": [
        "## **Compilation and Running the Producer Consumer Program**\n",
        "Run this cell to see the result. If an error is generated, fix the `send_recv.cpp` code, recompile, and run again. If the program is running for too long, you can stop it by clicking the stop button.\n",
        "\n",
        "You can adjust the `BUFFER_SIZE` of the finite circular buffer in the `send_recv.hpp` file if you wish.\n",
        "\n",
        "The program is set to send 500 integers by default. You can change the value of `N` in the `sender_receiver.cpp` file if you wish to run the test with a smaller sample size. However, please note that if `N` is set too low, the program may not be able to effectively detect any bugs in your code.\n",
        "\n",
        "A functional code should give you result like the following:\n",
        "\n",
        "![image.png](data:image/png;base64,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)"
      ],
      "metadata": {
        "id": "Fhs7vM99TVJI"
      }
    },
    {
      "cell_type": "code",
      "source": [
        "!g++ -o sender_receiver sender_receiver.cpp send_recv.cpp\n",
        "!./sender_receiver"
      ],
      "metadata": {
        "id": "xZEdY0S4TXhn",
        "colab": {
          "base_uri": "https://localhost:8080/"
        },
        "outputId": "7016f090-1360-462b-a0d8-0a30ada8deb8"
      },
      "execution_count": null,
      "outputs": [
        {
          "output_type": "stream",
          "name": "stdout",
          "text": [
            "BUG: [get_integer] Attempting to remove data from an empty buffer! Most probably it is not protected by a counting semaphore!\n",
            "terminate called without an active exception\n"
          ]
        }
      ]
    }
  ]
}